{
  "cells": [
    {
      "cell_type": "code",
      "execution_count": 47,
      "metadata": {
        "colab": {
          "base_uri": "https://localhost:8080/"
        },
        "id": "Bxk7MHH8q_WD",
        "outputId": "ade410c0-7b2d-4a52-b979-64e591766558"
      },
      "outputs": [
        {
          "output_type": "stream",
          "name": "stdout",
          "text": [
            "Drive already mounted at /content/drive; to attempt to forcibly remount, call drive.mount(\"/content/drive\", force_remount=True).\n"
          ]
        }
      ],
      "source": [
        "from google.colab import drive\n",
        "drive.mount('/content/drive')"
      ]
    },
    {
      "cell_type": "code",
      "execution_count": 48,
      "metadata": {
        "colab": {
          "base_uri": "https://localhost:8080/"
        },
        "id": "1CqVplsXrAAX",
        "outputId": "51b58a62-62c9-43a9-ec29-9d08fdf8df14"
      },
      "outputs": [
        {
          "output_type": "stream",
          "name": "stdout",
          "text": [
            "Found GPU at: /device:GPU:0\n"
          ]
        }
      ],
      "source": [
        "import tensorflow as tf\n",
        "\n",
        "device_name = tf.test.gpu_device_name()\n",
        "\n",
        "if device_name == '/device:GPU:0':\n",
        "    print('Found GPU at: {}'.format(device_name))\n",
        "else:\n",
        "    raise SystemError('GPU device not found')"
      ]
    },
    {
      "cell_type": "code",
      "execution_count": 49,
      "metadata": {
        "id": "nzwpQmJqrNK0"
      },
      "outputs": [],
      "source": [
        "import torch\n",
        "\n",
        "if torch.cuda.is_available():\n",
        "    device = torch.device(\"cuda\")\n",
        "else:\n",
        "    print('No GPU available, using the CPU instead.')\n",
        "    device = torch.device(\"cpu\")"
      ]
    },
    {
      "cell_type": "code",
      "execution_count": 50,
      "metadata": {
        "colab": {
          "base_uri": "https://localhost:8080/"
        },
        "id": "Qzx2nG1crPyT",
        "outputId": "0cd91835-b5d9-4c84-fbad-b0b7ac0c36a5"
      },
      "outputs": [
        {
          "output_type": "stream",
          "name": "stdout",
          "text": [
            "Requirement already satisfied: transformers in /usr/local/lib/python3.10/dist-packages (4.46.3)\n",
            "Requirement already satisfied: filelock in /usr/local/lib/python3.10/dist-packages (from transformers) (3.16.1)\n",
            "Requirement already satisfied: huggingface-hub<1.0,>=0.23.2 in /usr/local/lib/python3.10/dist-packages (from transformers) (0.26.3)\n",
            "Requirement already satisfied: numpy>=1.17 in /usr/local/lib/python3.10/dist-packages (from transformers) (1.26.4)\n",
            "Requirement already satisfied: packaging>=20.0 in /usr/local/lib/python3.10/dist-packages (from transformers) (24.2)\n",
            "Requirement already satisfied: pyyaml>=5.1 in /usr/local/lib/python3.10/dist-packages (from transformers) (6.0.2)\n",
            "Requirement already satisfied: regex!=2019.12.17 in /usr/local/lib/python3.10/dist-packages (from transformers) (2024.9.11)\n",
            "Requirement already satisfied: requests in /usr/local/lib/python3.10/dist-packages (from transformers) (2.32.3)\n",
            "Requirement already satisfied: tokenizers<0.21,>=0.20 in /usr/local/lib/python3.10/dist-packages (from transformers) (0.20.3)\n",
            "Requirement already satisfied: safetensors>=0.4.1 in /usr/local/lib/python3.10/dist-packages (from transformers) (0.4.5)\n",
            "Requirement already satisfied: tqdm>=4.27 in /usr/local/lib/python3.10/dist-packages (from transformers) (4.66.6)\n",
            "Requirement already satisfied: fsspec>=2023.5.0 in /usr/local/lib/python3.10/dist-packages (from huggingface-hub<1.0,>=0.23.2->transformers) (2024.10.0)\n",
            "Requirement already satisfied: typing-extensions>=3.7.4.3 in /usr/local/lib/python3.10/dist-packages (from huggingface-hub<1.0,>=0.23.2->transformers) (4.12.2)\n",
            "Requirement already satisfied: charset-normalizer<4,>=2 in /usr/local/lib/python3.10/dist-packages (from requests->transformers) (3.4.0)\n",
            "Requirement already satisfied: idna<4,>=2.5 in /usr/local/lib/python3.10/dist-packages (from requests->transformers) (3.10)\n",
            "Requirement already satisfied: urllib3<3,>=1.21.1 in /usr/local/lib/python3.10/dist-packages (from requests->transformers) (2.2.3)\n",
            "Requirement already satisfied: certifi>=2017.4.17 in /usr/local/lib/python3.10/dist-packages (from requests->transformers) (2024.8.30)\n"
          ]
        }
      ],
      "source": [
        "!pip install transformers"
      ]
    },
    {
      "cell_type": "code",
      "execution_count": 51,
      "metadata": {
        "colab": {
          "base_uri": "https://localhost:8080/"
        },
        "id": "6DCg8aAJrS92",
        "outputId": "d13fd446-65fc-45ab-b85a-6250caefed43"
      },
      "outputs": [
        {
          "output_type": "stream",
          "name": "stdout",
          "text": [
            "2091\n",
            "1900\n"
          ]
        }
      ],
      "source": [
        "import json\n",
        "\n",
        "# JSON 파일 읽기 및 데이터 추출\n",
        "def extract_captions_labels(json_file_path, num_samples = None):\n",
        "    with open(json_file_path, \"r\") as json_file:\n",
        "        data = json.load(json_file)\n",
        "\n",
        "    captions_labels = []\n",
        "    annotations = data[\"annotations\"]\n",
        "\n",
        "    if num_samples is not None:\n",
        "        annotations = annotations[:num_samples]\n",
        "\n",
        "    for annotation in annotations:\n",
        "        caption = annotation[\"caption\"]\n",
        "        label = annotation[\"danger_score\"]\n",
        "        captions_labels.append((caption, label))\n",
        "\n",
        "    return captions_labels\n",
        "\n",
        "#데이터 추출\n",
        "file1_captions_labels = extract_captions_labels(\"/content/drive/MyDrive/train_abnormal_dataset.json\")\n",
        "\n",
        "captions_labels = file1_captions_labels\n",
        "\n",
        "print(len(captions_labels))\n",
        "\n",
        "captions_labels = list(set(captions_labels))\n",
        "\n",
        "print(len(captions_labels))"
      ]
    },
    {
      "cell_type": "code",
      "execution_count": 52,
      "metadata": {
        "id": "8uZxZDbhtY4S"
      },
      "outputs": [],
      "source": [
        "import numpy as np\n",
        "import torch\n",
        "import torch.nn as nn\n",
        "import torch.optim as optim\n",
        "\n",
        "# 데이터 분리\n",
        "sentences, labels = zip(*captions_labels)"
      ]
    },
    {
      "cell_type": "code",
      "execution_count": 53,
      "metadata": {
        "colab": {
          "base_uri": "https://localhost:8080/"
        },
        "id": "yD9LCSZhvfpU",
        "outputId": "2c6f30a7-f41c-4c8e-bca1-7223fdc8c6d8"
      },
      "outputs": [
        {
          "output_type": "stream",
          "name": "stdout",
          "text": [
            "Loading BERT tokenizer...\n"
          ]
        }
      ],
      "source": [
        "from transformers import BertTokenizer\n",
        "\n",
        "print('Loading BERT tokenizer...')\n",
        "tokenizer = BertTokenizer.from_pretrained('bert-base-uncased', do_lower_case=True)"
      ]
    },
    {
      "cell_type": "code",
      "execution_count": 54,
      "metadata": {
        "colab": {
          "base_uri": "https://localhost:8080/"
        },
        "id": "1RIWFuSrvhOV",
        "outputId": "8fa934eb-9453-441d-8fc0-9fbca1ed88ac"
      },
      "outputs": [
        {
          "output_type": "stream",
          "name": "stdout",
          "text": [
            " Original:  A woman wearing a bag is standing in the middle of the road.\n",
            "Tokenized:  ['a', 'woman', 'wearing', 'a', 'bag', 'is', 'standing', 'in', 'the', 'middle', 'of', 'the', 'road', '.']\n",
            "Token IDs:  [1037, 2450, 4147, 1037, 4524, 2003, 3061, 1999, 1996, 2690, 1997, 1996, 2346, 1012]\n"
          ]
        }
      ],
      "source": [
        "# 0번 문장으로 테스트\n",
        "print(' Original: ', sentences[0])\n",
        "\n",
        "print('Tokenized: ', tokenizer.tokenize(sentences[0]))\n",
        "\n",
        "print('Token IDs: ', tokenizer.convert_tokens_to_ids(tokenizer.tokenize(sentences[0])))"
      ]
    },
    {
      "cell_type": "code",
      "execution_count": 55,
      "metadata": {
        "colab": {
          "base_uri": "https://localhost:8080/"
        },
        "id": "v2XgU3DSvjib",
        "outputId": "396048d8-158e-40eb-da20-e4395ad22dc4"
      },
      "outputs": [
        {
          "output_type": "stream",
          "name": "stdout",
          "text": [
            "Max sentence length:  35\n"
          ]
        }
      ],
      "source": [
        "max_len = 0\n",
        "\n",
        "for sent in sentences:\n",
        "\n",
        "    input_ids = tokenizer.encode(sent, add_special_tokens=True)\n",
        "\n",
        "    max_len = max(max_len, len(input_ids))\n",
        "\n",
        "print('Max sentence length: ', max_len)"
      ]
    },
    {
      "cell_type": "code",
      "execution_count": 56,
      "metadata": {
        "colab": {
          "base_uri": "https://localhost:8080/"
        },
        "id": "k2H6pKvCvmdP",
        "outputId": "fc7ad2b2-d30e-4472-9c5a-620a18d2c808"
      },
      "outputs": [
        {
          "output_type": "stream",
          "name": "stderr",
          "text": [
            "Truncation was not explicitly activated but `max_length` is provided a specific value, please use `truncation=True` to explicitly truncate examples to max length. Defaulting to 'longest_first' truncation strategy. If you encode pairs of sequences (GLUE-style) with the tokenizer you can select this strategy more precisely by providing a specific strategy to `truncation`.\n",
            "/usr/local/lib/python3.10/dist-packages/transformers/tokenization_utils_base.py:2834: FutureWarning: The `pad_to_max_length` argument is deprecated and will be removed in a future version, use `padding=True` or `padding='longest'` to pad to the longest sequence in the batch, or use `padding='max_length'` to pad to a max length. In this case, you can give a specific length with `max_length` (e.g. `max_length=45`) or leave max_length to None to pad to the maximal input size of the model (e.g. 512 for Bert).\n",
            "  warnings.warn(\n"
          ]
        },
        {
          "output_type": "stream",
          "name": "stdout",
          "text": [
            "Original:  A woman wearing a bag is standing in the middle of the road.\n",
            "Token IDs: tensor([ 101, 1037, 2450, 4147, 1037, 4524, 2003, 3061, 1999, 1996, 2690, 1997,\n",
            "        1996, 2346, 1012,  102,    0,    0,    0,    0,    0,    0,    0,    0,\n",
            "           0,    0,    0,    0,    0,    0,    0,    0,    0,    0,    0,    0,\n",
            "           0,    0,    0,    0,    0,    0,    0,    0,    0,    0,    0,    0,\n",
            "           0,    0,    0,    0,    0,    0,    0,    0,    0,    0,    0,    0,\n",
            "           0,    0,    0,    0])\n"
          ]
        }
      ],
      "source": [
        "input_ids = []\n",
        "attention_masks = []\n",
        "\n",
        "for sent in sentences:\n",
        "\n",
        "    encoded_dict = tokenizer.encode_plus(\n",
        "                        sent,\n",
        "                        add_special_tokens = True,\n",
        "                        max_length = 64,\n",
        "                        pad_to_max_length = True,\n",
        "                        return_attention_mask = True,\n",
        "                        return_tensors = 'pt',\n",
        "                   )\n",
        "\n",
        "    input_ids.append(encoded_dict['input_ids'])\n",
        "    attention_masks.append(encoded_dict['attention_mask'])\n",
        "\n",
        "\n",
        "input_ids = torch.cat(input_ids, dim=0)\n",
        "attention_masks = torch.cat(attention_masks, dim=0)\n",
        "labels = torch.tensor(labels)\n",
        "\n",
        "print('Original: ', sentences[0])\n",
        "print('Token IDs:', input_ids[0])"
      ]
    },
    {
      "cell_type": "code",
      "execution_count": 57,
      "metadata": {
        "colab": {
          "base_uri": "https://localhost:8080/"
        },
        "id": "WEXCl_LKvr6C",
        "outputId": "22a716d6-a287-456c-e408-6a93745459ae"
      },
      "outputs": [
        {
          "output_type": "stream",
          "name": "stdout",
          "text": [
            "1,805 training samples\n",
            "   95 validation samples\n"
          ]
        }
      ],
      "source": [
        "from torch.utils.data import TensorDataset, random_split\n",
        "\n",
        "dataset = TensorDataset(input_ids, attention_masks, labels)\n",
        "\n",
        "train_size = int(0.95 * len(dataset))\n",
        "val_size = len(dataset) - train_size\n",
        "\n",
        "train_dataset, val_dataset = random_split(dataset, [train_size, val_size])\n",
        "\n",
        "print('{:>5,} training samples'.format(train_size))\n",
        "print('{:>5,} validation samples'.format(val_size))"
      ]
    },
    {
      "cell_type": "code",
      "execution_count": 58,
      "metadata": {
        "id": "jhJjN3QSvx5a"
      },
      "outputs": [],
      "source": [
        "from torch.utils.data import DataLoader, RandomSampler, SequentialSampler\n",
        "\n",
        "batch_size = 32\n",
        "\n",
        "train_dataloader = DataLoader(\n",
        "            train_dataset,\n",
        "            sampler = RandomSampler(train_dataset),\n",
        "            batch_size = batch_size\n",
        "        )\n",
        "\n",
        "validation_dataloader = DataLoader(\n",
        "            val_dataset,\n",
        "            sampler = SequentialSampler(val_dataset),\n",
        "            batch_size = batch_size\n",
        "        )"
      ]
    },
    {
      "cell_type": "code",
      "execution_count": 59,
      "metadata": {
        "colab": {
          "base_uri": "https://localhost:8080/"
        },
        "id": "ufe9BG3Ev1jw",
        "outputId": "0e7c1998-7239-4495-a63c-da5b12fe7704"
      },
      "outputs": [
        {
          "output_type": "stream",
          "name": "stderr",
          "text": [
            "Some weights of BertForSequenceClassification were not initialized from the model checkpoint at bert-base-uncased and are newly initialized: ['classifier.bias', 'classifier.weight']\n",
            "You should probably TRAIN this model on a down-stream task to be able to use it for predictions and inference.\n"
          ]
        },
        {
          "output_type": "execute_result",
          "data": {
            "text/plain": [
              "BertForSequenceClassification(\n",
              "  (bert): BertModel(\n",
              "    (embeddings): BertEmbeddings(\n",
              "      (word_embeddings): Embedding(30522, 768, padding_idx=0)\n",
              "      (position_embeddings): Embedding(512, 768)\n",
              "      (token_type_embeddings): Embedding(2, 768)\n",
              "      (LayerNorm): LayerNorm((768,), eps=1e-12, elementwise_affine=True)\n",
              "      (dropout): Dropout(p=0.1, inplace=False)\n",
              "    )\n",
              "    (encoder): BertEncoder(\n",
              "      (layer): ModuleList(\n",
              "        (0-11): 12 x BertLayer(\n",
              "          (attention): BertAttention(\n",
              "            (self): BertSdpaSelfAttention(\n",
              "              (query): Linear(in_features=768, out_features=768, bias=True)\n",
              "              (key): Linear(in_features=768, out_features=768, bias=True)\n",
              "              (value): Linear(in_features=768, out_features=768, bias=True)\n",
              "              (dropout): Dropout(p=0.1, inplace=False)\n",
              "            )\n",
              "            (output): BertSelfOutput(\n",
              "              (dense): Linear(in_features=768, out_features=768, bias=True)\n",
              "              (LayerNorm): LayerNorm((768,), eps=1e-12, elementwise_affine=True)\n",
              "              (dropout): Dropout(p=0.1, inplace=False)\n",
              "            )\n",
              "          )\n",
              "          (intermediate): BertIntermediate(\n",
              "            (dense): Linear(in_features=768, out_features=3072, bias=True)\n",
              "            (intermediate_act_fn): GELUActivation()\n",
              "          )\n",
              "          (output): BertOutput(\n",
              "            (dense): Linear(in_features=3072, out_features=768, bias=True)\n",
              "            (LayerNorm): LayerNorm((768,), eps=1e-12, elementwise_affine=True)\n",
              "            (dropout): Dropout(p=0.1, inplace=False)\n",
              "          )\n",
              "        )\n",
              "      )\n",
              "    )\n",
              "    (pooler): BertPooler(\n",
              "      (dense): Linear(in_features=768, out_features=768, bias=True)\n",
              "      (activation): Tanh()\n",
              "    )\n",
              "  )\n",
              "  (dropout): Dropout(p=0.1, inplace=False)\n",
              "  (classifier): Linear(in_features=768, out_features=8, bias=True)\n",
              ")"
            ]
          },
          "metadata": {},
          "execution_count": 59
        }
      ],
      "source": [
        "from transformers import BertForSequenceClassification, AdamW, BertConfig\n",
        "\n",
        "model = BertForSequenceClassification.from_pretrained(\n",
        "    \"bert-base-uncased\", # Use the 12-layer BERT model, with an uncased vocab.\n",
        "    num_labels = 8,\n",
        "    output_attentions = False,\n",
        "    output_hidden_states = False,\n",
        ")\n",
        "\n",
        "model.cuda()"
      ]
    },
    {
      "cell_type": "code",
      "execution_count": 60,
      "metadata": {
        "colab": {
          "base_uri": "https://localhost:8080/"
        },
        "id": "wlzZBaxDwCxM",
        "outputId": "09498e02-1cf3-49e9-8c53-452a06c04b0d"
      },
      "outputs": [
        {
          "output_type": "stream",
          "name": "stderr",
          "text": [
            "/usr/local/lib/python3.10/dist-packages/transformers/optimization.py:591: FutureWarning: This implementation of AdamW is deprecated and will be removed in a future version. Use the PyTorch implementation torch.optim.AdamW instead, or set `no_deprecation_warning=True` to disable this warning\n",
            "  warnings.warn(\n"
          ]
        }
      ],
      "source": [
        "optimizer = AdamW(model.parameters(),\n",
        "                  lr = 2e-5,\n",
        "                  eps = 1e-8\n",
        "                )\n"
      ]
    },
    {
      "cell_type": "code",
      "execution_count": 61,
      "metadata": {
        "id": "NtD5AJCbwG4U"
      },
      "outputs": [],
      "source": [
        "from transformers import get_linear_schedule_with_warmup\n",
        "\n",
        "epochs = 5\n",
        "\n",
        "total_steps = len(train_dataloader) * epochs\n",
        "\n",
        "scheduler = get_linear_schedule_with_warmup(optimizer,\n",
        "                                            num_warmup_steps = 0,\n",
        "                                            num_training_steps = total_steps)"
      ]
    },
    {
      "cell_type": "code",
      "execution_count": 62,
      "metadata": {
        "id": "0Up0PFarwJRr"
      },
      "outputs": [],
      "source": [
        "import numpy as np\n",
        "\n",
        "def flat_accuracy(preds, labels):\n",
        "    pred_flat = np.argmax(preds, axis=1).flatten()\n",
        "    labels_flat = labels.flatten()\n",
        "    return np.sum(pred_flat == labels_flat) / len(labels_flat)"
      ]
    },
    {
      "cell_type": "code",
      "execution_count": 63,
      "metadata": {
        "id": "nEtbWw2lwLnh"
      },
      "outputs": [],
      "source": [
        "import time\n",
        "import datetime\n",
        "\n",
        "def format_time(elapsed):\n",
        "    '''\n",
        "    Takes a time in seconds and returns a string hh:mm:ss\n",
        "    '''\n",
        "    elapsed_rounded = int(round((elapsed)))\n",
        "\n",
        "    return str(datetime.timedelta(seconds=elapsed_rounded))\n"
      ]
    },
    {
      "cell_type": "code",
      "source": [
        "import random\n",
        "import numpy as np\n",
        "import time\n",
        "import torch\n",
        "from torch.utils.data import DataLoader, TensorDataset, RandomSampler, SequentialSampler\n",
        "from torch.nn import functional as F\n",
        "from transformers import BertForSequenceClassification, BertTokenizer, AdamW, get_linear_schedule_with_warmup\n",
        "from sklearn.metrics import precision_score, recall_score, f1_score, accuracy_score\n",
        "from sklearn.model_selection import train_test_split\n",
        "import json\n",
        "from collections import defaultdict\n",
        "\n",
        "# Seed 설정\n",
        "seed_val = 42\n",
        "random.seed(seed_val)\n",
        "np.random.seed(seed_val)\n",
        "torch.manual_seed(seed_val)\n",
        "torch.cuda.manual_seed_all(seed_val)\n",
        "\n",
        "# 모델 및 토크나이저 로드\n",
        "model = BertForSequenceClassification.from_pretrained('/content/drive/MyDrive/bert', num_labels=8)\n",
        "tokenizer = BertTokenizer.from_pretrained('/content/drive/MyDrive/bert')\n",
        "\n",
        "device = torch.device(\"cuda\" if torch.cuda.is_available() else \"cpu\")\n",
        "model.to(device)\n",
        "\n",
        "# JSON 파일 읽기 및 데이터 추출 함수\n",
        "def extract_captions_labels(json_file_path):\n",
        "    with open(json_file_path, \"r\") as json_file:\n",
        "        data = json.load(json_file)\n",
        "\n",
        "    captions_labels = []\n",
        "    annotations = data[\"annotations\"]\n",
        "    images = {image[\"id\"]: image[\"file_name\"] for image in data[\"images\"]}\n",
        "\n",
        "    for annotation in annotations:\n",
        "        image_id = annotation[\"image_id\"]\n",
        "        caption = annotation[\"caption\"]\n",
        "        label = annotation[\"danger_score\"]\n",
        "        file_name = images[image_id]\n",
        "        captions_labels.append((file_name, caption, label))\n",
        "\n",
        "    return captions_labels\n",
        "\n",
        "# 데이터 추출\n",
        "file1_captions_labels = extract_captions_labels(\"/content/drive/MyDrive/train_abnormal_dataset.json\")\n",
        "\n",
        "# 클래스별 데이터 분리\n",
        "class_to_data = defaultdict(list)\n",
        "\n",
        "for file_name, caption, label in file1_captions_labels:\n",
        "    class_name = file_name.split(\"000\")[0]  # \"fire00000001.png\" -> \"fire\"\n",
        "    class_to_data[class_name].append((caption, label))\n",
        "\n",
        "# 라벨 맵 정의\n",
        "label_map = {0: 'Label_0(정상)', 1: 'Label_1(위험)', 2: 'Label_2(위험)',\n",
        "             3: 'Label_3(위험)', 4: 'Label_4(위험)', 5: 'Label_5(위험)',\n",
        "             6: 'Label_6(위험)', 7: 'Label_7(위험)'}\n",
        "\n",
        "# 데이터 분리 (클래스별로 80장씩 검증 데이터 확보)\n",
        "train_data = []\n",
        "val_data = []\n",
        "\n",
        "validation_count_per_class = 80  # 각 클래스별 검증 데이터 샘플 수\n",
        "\n",
        "for class_name, data in class_to_data.items():\n",
        "    random.shuffle(data)\n",
        "    val_class_data = data[:validation_count_per_class]\n",
        "    train_class_data = data[validation_count_per_class:]\n",
        "\n",
        "    train_data.extend([(class_name, *item) for item in train_class_data])\n",
        "    val_data.extend([(class_name, *item) for item in val_class_data])\n",
        "\n",
        "# 데이터 확인\n",
        "print(f\"Number of training samples: {len(train_data)}\")\n",
        "print(f\"Number of validation samples: {len(val_data)}\")\n",
        "\n",
        "# 클래스별 검증 데이터 분포 확인\n",
        "val_class_distribution = defaultdict(int)\n",
        "for class_name, _, _ in val_data:\n",
        "    val_class_distribution[class_name] += 1\n",
        "\n",
        "print(\"\\nValidation Data Class Distribution:\")\n",
        "for class_name, count in val_class_distribution.items():\n",
        "    print(f\"Class: {class_name}, Count: {count}\")\n",
        "\n",
        "# 학습 데이터 로더 생성\n",
        "train_sentences, train_labels = zip(*[(caption, label) for _, caption, label in train_data])\n",
        "train_inputs = tokenizer(list(train_sentences), padding=True, truncation=True, return_tensors=\"pt\")\n",
        "train_labels = torch.tensor(train_labels)\n",
        "\n",
        "train_dataset = TensorDataset(train_inputs[\"input_ids\"], train_inputs[\"attention_mask\"], train_labels)\n",
        "train_dataloader = DataLoader(train_dataset, sampler=RandomSampler(train_dataset), batch_size=16)\n",
        "\n",
        "# 검증 데이터 로더 생성\n",
        "val_sentences, val_labels = zip(*[(caption, label) for _, caption, label in val_data])\n",
        "val_inputs = tokenizer(list(val_sentences), padding=True, truncation=True, return_tensors=\"pt\")\n",
        "val_labels = torch.tensor(val_labels)\n",
        "\n",
        "val_dataset = TensorDataset(val_inputs[\"input_ids\"], val_inputs[\"attention_mask\"], val_labels)\n",
        "validation_dataloader = DataLoader(val_dataset, sampler=SequentialSampler(val_dataset), batch_size=16)\n",
        "\n",
        "# 옵티마이저 및 스케줄러 설정\n",
        "optimizer = AdamW(model.parameters(),lr=2e-5, eps=1e-8)\n",
        "epochs = 3\n",
        "total_steps = len(train_dataloader) * epochs\n",
        "\n",
        "scheduler = get_linear_schedule_with_warmup(optimizer, num_warmup_steps=0, num_training_steps=total_steps)\n",
        "\n",
        "# 학습 루프\n",
        "training_stats = []\n",
        "total_t0 = time.time()\n",
        "\n",
        "for epoch_i in range(epochs):\n",
        "    print(f\"\\n======== Epoch {epoch_i + 1} / {epochs} ========\")\n",
        "    print(\"Training...\")\n",
        "\n",
        "    t0 = time.time()\n",
        "    total_train_loss = 0\n",
        "\n",
        "    model.train()\n",
        "\n",
        "    for step, batch in enumerate(train_dataloader):\n",
        "        if step % 40 == 0 and step > 0:\n",
        "            elapsed = time.time() - t0\n",
        "            print(f\"  Batch {step} of {len(train_dataloader)}. Elapsed: {elapsed:.2f} seconds.\")\n",
        "\n",
        "        b_input_ids = batch[0].to(device)\n",
        "        b_input_mask = batch[1].to(device)\n",
        "        b_labels = batch[2].to(device)\n",
        "\n",
        "        model.zero_grad()\n",
        "\n",
        "        outputs = model(\n",
        "            b_input_ids,\n",
        "            attention_mask=b_input_mask,\n",
        "            labels=b_labels,\n",
        "            return_dict=True\n",
        "        )\n",
        "        loss = outputs.loss\n",
        "        logits = outputs.logits\n",
        "\n",
        "        total_train_loss += loss.item()\n",
        "\n",
        "        loss.backward()\n",
        "\n",
        "        torch.nn.utils.clip_grad_norm_(model.parameters(), 1.0)\n",
        "        optimizer.step()\n",
        "        scheduler.step()\n",
        "\n",
        "    avg_train_loss = total_train_loss / len(train_dataloader)\n",
        "    print(f\"\\n  Average training loss: {avg_train_loss:.2f}\")\n",
        "\n",
        "# 검증 루프\n",
        "print(\"\\nRunning Validation...\")\n",
        "model.eval()\n",
        "\n",
        "metrics_per_class = {}\n",
        "mismatched_samples_per_class = defaultdict(list)\n",
        "\n",
        "for class_name, val_data_per_class in class_to_data.items():\n",
        "    class_val_sentences = [caption for caption, _ in val_data_per_class]\n",
        "    class_val_labels = [label for _, label in val_data_per_class]\n",
        "\n",
        "    val_inputs = tokenizer(list(class_val_sentences), padding=True, truncation=True, return_tensors=\"pt\")\n",
        "    val_input_ids = val_inputs[\"input_ids\"].to(device)\n",
        "    val_attention_masks = val_inputs[\"attention_mask\"].to(device)\n",
        "\n",
        "    with torch.no_grad():\n",
        "        outputs = model(val_input_ids, attention_mask=val_attention_masks)\n",
        "        logits = outputs.logits\n",
        "\n",
        "    predicted_labels = torch.argmax(logits, dim=1).cpu().numpy()\n",
        "    true_labels = np.array(class_val_labels)\n",
        "\n",
        "    precision = precision_score(true_labels, predicted_labels, average='weighted', zero_division=0)\n",
        "    recall = recall_score(true_labels, predicted_labels, average='weighted', zero_division=0)\n",
        "    f1 = f1_score(true_labels, predicted_labels, average='weighted', zero_division=0)\n",
        "    accuracy = accuracy_score(true_labels, predicted_labels)\n",
        "\n",
        "    metrics_per_class[class_name] = {\n",
        "        \"accuracy\": accuracy,\n",
        "        \"precision\": precision,\n",
        "        \"recall\": recall,\n",
        "        \"f1_score\": f1\n",
        "    }\n",
        "\n",
        "    for i, (true_label, pred_label) in enumerate(zip(true_labels, predicted_labels)):\n",
        "        if true_label != pred_label:\n",
        "            mismatched_samples_per_class[class_name].append({\n",
        "                \"Input\": class_val_sentences[i],\n",
        "                \"True Label\": label_map[true_label],\n",
        "                \"Predicted Label\": label_map[pred_label]\n",
        "            })\n",
        "\n",
        "print(\"\\nClassification Metrics per Class:\")\n",
        "for class_name, metrics in metrics_per_class.items():\n",
        "    print(f\"Class: {class_name}\")\n",
        "    print(f\"  Accuracy: {metrics['accuracy']:.4f}\")\n",
        "    print(f\"  Precision: {metrics['precision']:.4f}\")\n",
        "    print(f\"  Recall: {metrics['recall']:.4f}\")\n",
        "    print(f\"  F1 Score: {metrics['f1_score']:.4f}\")\n"
      ],
      "metadata": {
        "colab": {
          "base_uri": "https://localhost:8080/"
        },
        "id": "YmIAssRhdzA4",
        "outputId": "56dcb69c-5c46-4c50-fb3b-2cac89decff4"
      },
      "execution_count": 64,
      "outputs": [
        {
          "output_type": "stream",
          "name": "stdout",
          "text": [
            "Number of training samples: 1691\n",
            "Number of validation samples: 400\n",
            "\n",
            "Validation Data Class Distribution:\n",
            "Class: fire, Count: 80\n",
            "Class: traffic_accident, Count: 80\n",
            "Class: fight, Count: 80\n",
            "Class: caution, Count: 80\n",
            "Class: fall, Count: 80\n",
            "\n",
            "======== Epoch 1 / 3 ========\n",
            "Training...\n",
            "  Batch 40 of 106. Elapsed: 5.44 seconds.\n",
            "  Batch 80 of 106. Elapsed: 11.90 seconds.\n",
            "\n",
            "  Average training loss: 0.44\n",
            "\n",
            "======== Epoch 2 / 3 ========\n",
            "Training...\n",
            "  Batch 40 of 106. Elapsed: 6.12 seconds.\n",
            "  Batch 80 of 106. Elapsed: 13.35 seconds.\n",
            "\n",
            "  Average training loss: 0.28\n",
            "\n",
            "======== Epoch 3 / 3 ========\n",
            "Training...\n",
            "  Batch 40 of 106. Elapsed: 5.28 seconds.\n",
            "  Batch 80 of 106. Elapsed: 10.48 seconds.\n",
            "\n",
            "  Average training loss: 0.19\n",
            "\n",
            "Running Validation...\n",
            "\n",
            "Classification Metrics per Class:\n",
            "Class: fire\n",
            "  Accuracy: 0.8486\n",
            "  Precision: 0.8487\n",
            "  Recall: 0.8486\n",
            "  F1 Score: 0.8446\n",
            "Class: traffic_accident\n",
            "  Accuracy: 0.9811\n",
            "  Precision: 0.9816\n",
            "  Recall: 0.9811\n",
            "  F1 Score: 0.9802\n",
            "Class: fight\n",
            "  Accuracy: 0.9959\n",
            "  Precision: 0.9959\n",
            "  Recall: 0.9959\n",
            "  F1 Score: 0.9959\n",
            "Class: caution\n",
            "  Accuracy: 0.9732\n",
            "  Precision: 0.9714\n",
            "  Recall: 0.9732\n",
            "  F1 Score: 0.9723\n",
            "Class: fall\n",
            "  Accuracy: 0.9259\n",
            "  Precision: 0.9243\n",
            "  Recall: 0.9259\n",
            "  F1 Score: 0.9220\n"
          ]
        }
      ]
    },
    {
      "cell_type": "code",
      "source": [
        "# 라벨별 정밀도, 재현율, F1-점수 출력\n",
        "print(\"\\nClassification Metrics per Class:\")\n",
        "for i, label in label_map.items():\n",
        "    precision = precision_score(all_labels, all_preds, labels=[i], average='weighted', zero_division=0)\n",
        "    recall = recall_score(all_labels, all_preds, labels=[i], average='weighted', zero_division=0)\n",
        "    f1 = f1_score(all_labels, all_preds, labels=[i], average='weighted', zero_division=0)\n",
        "    print(f\"Class: {label}\")\n",
        "    print(f\"  Precision: {precision:.4f}\")\n",
        "    print(f\"  Recall: {recall:.4f}\")\n",
        "    print(f\"  F1 Score: {f1:.4f}\")"
      ],
      "metadata": {
        "colab": {
          "base_uri": "https://localhost:8080/"
        },
        "id": "cGm9NHFbtuWC",
        "outputId": "c9e12d5d-bb6d-4bce-b6e3-d4cfb7bf1205"
      },
      "execution_count": 65,
      "outputs": [
        {
          "output_type": "stream",
          "name": "stdout",
          "text": [
            "\n",
            "Classification Metrics per Class:\n",
            "Class: Label_0(정상)\n",
            "  Precision: 0.0000\n",
            "  Recall: 0.0000\n",
            "  F1 Score: 0.0000\n",
            "Class: Label_1(위험)\n",
            "  Precision: 0.0000\n",
            "  Recall: 0.0000\n",
            "  F1 Score: 0.0000\n",
            "Class: Label_2(위험)\n",
            "  Precision: 0.6667\n",
            "  Recall: 1.0000\n",
            "  F1 Score: 0.8000\n",
            "Class: Label_3(위험)\n",
            "  Precision: 0.9474\n",
            "  Recall: 0.8852\n",
            "  F1 Score: 0.9153\n",
            "Class: Label_4(위험)\n",
            "  Precision: 0.8958\n",
            "  Recall: 0.9348\n",
            "  F1 Score: 0.9149\n",
            "Class: Label_5(위험)\n",
            "  Precision: 0.9097\n",
            "  Recall: 0.9357\n",
            "  F1 Score: 0.9225\n",
            "Class: Label_6(위험)\n",
            "  Precision: 0.7984\n",
            "  Recall: 0.8512\n",
            "  F1 Score: 0.8240\n",
            "Class: Label_7(위험)\n",
            "  Precision: 0.7895\n",
            "  Recall: 0.6122\n",
            "  F1 Score: 0.6897\n"
          ]
        }
      ]
    },
    {
      "cell_type": "code",
      "source": [
        "# 라벨별 데이터 개수 계산\n",
        "from collections import defaultdict, Counter\n",
        "\n",
        "train_labels = [label for _, _, label in train_data]\n",
        "label_counts = Counter(train_labels)\n",
        "\n",
        "print(\"\\nTraining Data Label Counts:\")\n",
        "for label, count in label_counts.items():\n",
        "    label_name = label_map.get(label, f\"Label_{label}\")\n",
        "    print(f\"{label_name}: {count} samples\")\n"
      ],
      "metadata": {
        "colab": {
          "base_uri": "https://localhost:8080/"
        },
        "id": "C4T19tI2yTR8",
        "outputId": "7a186e95-866a-4ff9-d3a4-4f3ce500bde5"
      },
      "execution_count": 71,
      "outputs": [
        {
          "output_type": "stream",
          "name": "stdout",
          "text": [
            "\n",
            "Training Data Label Counts:\n",
            "Label_6(위험): 430 samples\n",
            "Label_7(위험): 197 samples\n",
            "Label_5(위험): 591 samples\n",
            "Label_3(위험): 235 samples\n",
            "Label_4(위험): 211 samples\n",
            "Label_0(정상): 1 samples\n",
            "Label_2(위험): 26 samples\n"
          ]
        }
      ]
    },
    {
      "cell_type": "code",
      "execution_count": 67,
      "metadata": {
        "colab": {
          "base_uri": "https://localhost:8080/"
        },
        "id": "GXcHHauN4wlf",
        "outputId": "4c187891-70a9-4e4c-8bea-b94b8c1ed60d"
      },
      "outputs": [
        {
          "output_type": "execute_result",
          "data": {
            "text/plain": [
              "('/content/drive/MyDrive/bert/tokenizer_config.json',\n",
              " '/content/drive/MyDrive/bert/special_tokens_map.json',\n",
              " '/content/drive/MyDrive/bert/vocab.txt',\n",
              " '/content/drive/MyDrive/bert/added_tokens.json')"
            ]
          },
          "metadata": {},
          "execution_count": 67
        }
      ],
      "source": [
        "model.save_pretrained('/content/drive/MyDrive/bert')\n",
        "tokenizer.save_pretrained('/content/drive/MyDrive/bert')"
      ]
    },
    {
      "cell_type": "markdown",
      "source": [
        "## 정답과 예측 값 비교 및 정답과 예측이 다른 캡션 추출"
      ],
      "metadata": {
        "id": "JpaNsgM5nEjD"
      }
    },
    {
      "cell_type": "code",
      "source": [
        "# 정답과 예측이 다른 샘플 통합\n",
        "mismatched_samples = []  # 정답과 예측이 다른 샘플 저장\n",
        "\n",
        "for class_name, mismatched_samples_in_class in mismatched_samples_per_class.items():\n",
        "    for sample in mismatched_samples_in_class:\n",
        "        mismatched_samples.append({\n",
        "            \"Class\": class_name,\n",
        "            \"Input\": sample[\"Input\"],\n",
        "            \"True Label\": sample[\"True Label\"],\n",
        "            \"Predicted Label\": sample[\"Predicted Label\"]\n",
        "        })\n",
        "\n",
        "# 정답과 예측이 다른 샘플 출력\n",
        "print(\"\\nMismatched Samples:\")\n",
        "for idx, sample in enumerate(mismatched_samples, 1):\n",
        "    print(f\"[{idx}] Input: {sample['Input']}\")\n",
        "    print(f\"  Class: {sample['Class']}\")\n",
        "    print(f\"  True Label: {sample['True Label']} | Predicted Label: {sample['Predicted Label']}\")\n",
        "    print(\"=\" * 50)\n",
        "\n",
        "# 정답과 예측이 다른 샘플 총 개수 출력\n",
        "print(f\"\\nTotal Mismatched Samples: {len(mismatched_samples)}\")\n"
      ],
      "metadata": {
        "colab": {
          "base_uri": "https://localhost:8080/"
        },
        "id": "KhSTOAVsWiVD",
        "outputId": "95447385-c80f-4c8b-a2c7-d748272e2e34"
      },
      "execution_count": 68,
      "outputs": [
        {
          "output_type": "stream",
          "name": "stdout",
          "text": [
            "\n",
            "Mismatched Samples:\n",
            "[1] Input: The building across from the construction site is on fire, and there are many people at the construction site.\n",
            "  Class: fire\n",
            "  True Label: Label_6(위험) | Predicted Label: Label_7(위험)\n",
            "==================================================\n",
            "[2] Input: There is a fire burning in the grass, and next to it are two men and a car.\n",
            "  Class: fire\n",
            "  True Label: Label_6(위험) | Predicted Label: Label_7(위험)\n",
            "==================================================\n",
            "[3] Input: A woman in a white coat stands outside a building on fire.\n",
            "  Class: fire\n",
            "  True Label: Label_7(위험) | Predicted Label: Label_6(위험)\n",
            "==================================================\n",
            "[4] Input: A fire is burning among the parked cars on the boat.\n",
            "  Class: fire\n",
            "  True Label: Label_7(위험) | Predicted Label: Label_6(위험)\n",
            "==================================================\n",
            "[5] Input: The black car next to the tree is on fire, and several cars are coming behind it.\n",
            "  Class: fire\n",
            "  True Label: Label_7(위험) | Predicted Label: Label_6(위험)\n",
            "==================================================\n",
            "[6] Input: A fire breaks out in the house and a man in white clothes falls to the floor.\n",
            "  Class: fire\n",
            "  True Label: Label_7(위험) | Predicted Label: Label_6(위험)\n",
            "==================================================\n",
            "[7] Input: There is a fire burning in the tree next to the man in the yellow jacket.\n",
            "  Class: fire\n",
            "  True Label: Label_7(위험) | Predicted Label: Label_6(위험)\n",
            "==================================================\n",
            "[8] Input: A fire is burning behind the man in red.\n",
            "  Class: fire\n",
            "  True Label: Label_7(위험) | Predicted Label: Label_6(위험)\n",
            "==================================================\n",
            "[9] Input: A fire is burning next to the tractor in the field.\n",
            "  Class: fire\n",
            "  True Label: Label_7(위험) | Predicted Label: Label_6(위험)\n",
            "==================================================\n",
            "[10] Input: Three people are engulfed in flames inside the house.\n",
            "  Class: fire\n",
            "  True Label: Label_7(위험) | Predicted Label: Label_6(위험)\n",
            "==================================================\n",
            "[11] Input: There is a fire burning between the shelves in the supermarket and there are a lot of people.\n",
            "  Class: fire\n",
            "  True Label: Label_7(위험) | Predicted Label: Label_6(위험)\n",
            "==================================================\n",
            "[12] Input: The village was engulfed in fire.\n",
            "  Class: fire\n",
            "  True Label: Label_7(위험) | Predicted Label: Label_6(위험)\n",
            "==================================================\n",
            "[13] Input: There is a fire burning next to a pile of wood and there are four people wearing black clothes next to it.\n",
            "  Class: fire\n",
            "  True Label: Label_6(위험) | Predicted Label: Label_7(위험)\n",
            "==================================================\n",
            "[14] Input: There's a fire burning in a high-rise building.\n",
            "  Class: fire\n",
            "  True Label: Label_7(위험) | Predicted Label: Label_6(위험)\n",
            "==================================================\n",
            "[15] Input: There is a fire on the roof and firefighters are on the roof.\n",
            "  Class: fire\n",
            "  True Label: Label_7(위험) | Predicted Label: Label_6(위험)\n",
            "==================================================\n",
            "[16] Input: Two firefighters are putting out a burning building.\n",
            "  Class: fire\n",
            "  True Label: Label_6(위험) | Predicted Label: Label_7(위험)\n",
            "==================================================\n",
            "[17] Input: The tires behind the man doing the V are on fire, and there are a lot of people behind the fire.\n",
            "  Class: fire\n",
            "  True Label: Label_7(위험) | Predicted Label: Label_6(위험)\n",
            "==================================================\n",
            "[18] Input: A fire broke out on the left side of the highway where cars were passing by.\n",
            "  Class: fire\n",
            "  True Label: Label_7(위험) | Predicted Label: Label_6(위험)\n",
            "==================================================\n",
            "[19] Input: A fire is burning in the field and a man with a checked shirt wrapped around his shoulders is watching.\n",
            "  Class: fire\n",
            "  True Label: Label_6(위험) | Predicted Label: Label_7(위험)\n",
            "==================================================\n",
            "[20] Input: Smoke is rising from a gray ship on the sea.\n",
            "  Class: fire\n",
            "  True Label: Label_7(위험) | Predicted Label: Label_6(위험)\n",
            "==================================================\n",
            "[21] Input: A car on the road is on fire.\n",
            "  Class: fire\n",
            "  True Label: Label_6(위험) | Predicted Label: Label_7(위험)\n",
            "==================================================\n",
            "[22] Input: Two firefighters are on the blue roof and fire is leaking from the roof.\n",
            "  Class: fire\n",
            "  True Label: Label_7(위험) | Predicted Label: Label_6(위험)\n",
            "==================================================\n",
            "[23] Input: A fire is burning in the boat next to the fire truck.\n",
            "  Class: fire\n",
            "  True Label: Label_7(위험) | Predicted Label: Label_6(위험)\n",
            "==================================================\n",
            "[24] Input: A building is on fire and a man is hiding in the back of a car.\n",
            "  Class: fire\n",
            "  True Label: Label_6(위험) | Predicted Label: Label_7(위험)\n",
            "==================================================\n",
            "[25] Input: A boat next to two ambulances is on fire.\n",
            "  Class: fire\n",
            "  True Label: Label_7(위험) | Predicted Label: Label_6(위험)\n",
            "==================================================\n",
            "[26] Input: There is a fire burning in the mountain and there are two white trucks on the road next to it.\n",
            "  Class: fire\n",
            "  True Label: Label_6(위험) | Predicted Label: Label_7(위험)\n",
            "==================================================\n",
            "[27] Input: A fire is burning on a boat floating on the water.\n",
            "  Class: fire\n",
            "  True Label: Label_7(위험) | Predicted Label: Label_6(위험)\n",
            "==================================================\n",
            "[28] Input: The building behind the black car on the road was engulfed in fire.\n",
            "  Class: fire\n",
            "  True Label: Label_7(위험) | Predicted Label: Label_6(위험)\n",
            "==================================================\n",
            "[29] Input: A black car and two people are colliding at a crosswalk.\n",
            "  Class: traffic_accident\n",
            "  True Label: Label_7(위험) | Predicted Label: Label_6(위험)\n",
            "==================================================\n",
            "[30] Input: A girl in pink is lying in front of the car on the road, and a man is sitting next to it.\n",
            "  Class: traffic_accident\n",
            "  True Label: Label_7(위험) | Predicted Label: Label_6(위험)\n",
            "==================================================\n",
            "[31] Input: Two motorcycles collided on the road, and the helmeted person was flying, and the black person fell on the road.\n",
            "  Class: traffic_accident\n",
            "  True Label: Label_7(위험) | Predicted Label: Label_5(위험)\n",
            "==================================================\n",
            "[32] Input: A person riding a motorcycle and a woman dressed in sky blue are colliding at a crosswalk.\n",
            "  Class: traffic_accident\n",
            "  True Label: Label_7(위험) | Predicted Label: Label_6(위험)\n",
            "==================================================\n",
            "[33] Input: A white car and a motorcycle with two people collided on the road.\n",
            "  Class: traffic_accident\n",
            "  True Label: Label_7(위험) | Predicted Label: Label_6(위험)\n",
            "==================================================\n",
            "[34] Input: The bus fell on the road, and several people fell around.\n",
            "  Class: traffic_accident\n",
            "  True Label: Label_7(위험) | Predicted Label: Label_6(위험)\n",
            "==================================================\n",
            "[35] Input: A man in a black shirt is kicking a person holding a knife on the street.\n",
            "  Class: fight\n",
            "  True Label: Label_7(위험) | Predicted Label: Label_5(위험)\n",
            "==================================================\n",
            "[36] Input: A man in white clothes and a man in black clothes are fighting on the street next to the car.\n",
            "  Class: fight\n",
            "  True Label: Label_6(위험) | Predicted Label: Label_5(위험)\n",
            "==================================================\n",
            "[37] Input: A man in jeans is riding a board on the road.\n",
            "  Class: caution\n",
            "  True Label: Label_3(위험) | Predicted Label: Label_4(위험)\n",
            "==================================================\n",
            "[38] Input: A man in blue is on the roof.\n",
            "  Class: caution\n",
            "  True Label: Label_3(위험) | Predicted Label: Label_4(위험)\n",
            "==================================================\n",
            "[39] Input: A woman in a gray jacket is sitting on the balcony railing.\n",
            "  Class: caution\n",
            "  True Label: Label_3(위험) | Predicted Label: Label_4(위험)\n",
            "==================================================\n",
            "[40] Input: A woman wearing an orange tank top is sitting on a railing near the river.\n",
            "  Class: caution\n",
            "  True Label: Label_4(위험) | Predicted Label: Label_3(위험)\n",
            "==================================================\n",
            "[41] Input: A woman wearing shoes is sitting on a railing next to the sea.\n",
            "  Class: caution\n",
            "  True Label: Label_4(위험) | Predicted Label: Label_3(위험)\n",
            "==================================================\n",
            "[42] Input: A man in a white jacket is sitting on the railing in front of the road.\n",
            "  Class: caution\n",
            "  True Label: Label_4(위험) | Predicted Label: Label_3(위험)\n",
            "==================================================\n",
            "[43] Input: A woman wearing black clothing is draped over a railing.\n",
            "  Class: caution\n",
            "  True Label: Label_4(위험) | Predicted Label: Label_3(위험)\n",
            "==================================================\n",
            "[44] Input: A woman wearing an orange tank top is sitting on the railing and taking pictures.\n",
            "  Class: caution\n",
            "  True Label: Label_0(정상) | Predicted Label: Label_3(위험)\n",
            "==================================================\n",
            "[45] Input: A man wearing gray short sleeves is sitting on the railing.\n",
            "  Class: caution\n",
            "  True Label: Label_4(위험) | Predicted Label: Label_3(위험)\n",
            "==================================================\n",
            "[46] Input: A woman wearing a blue shirt and sunglasses is walking on the road.\n",
            "  Class: caution\n",
            "  True Label: Label_4(위험) | Predicted Label: Label_3(위험)\n",
            "==================================================\n",
            "[47] Input: A man wearing a white tank top is sitting on the window railing.\n",
            "  Class: caution\n",
            "  True Label: Label_3(위험) | Predicted Label: Label_4(위험)\n",
            "==================================================\n",
            "[48] Input: Two boys are standing next to a blue car on the road.\n",
            "  Class: caution\n",
            "  True Label: Label_3(위험) | Predicted Label: Label_4(위험)\n",
            "==================================================\n",
            "[49] Input: A man wearing black short sleeves is sitting on the railing.\n",
            "  Class: caution\n",
            "  True Label: Label_4(위험) | Predicted Label: Label_3(위험)\n",
            "==================================================\n",
            "[50] Input: A woman wearing a pink knit is sitting on a balcony railing and looking at a laptop.\n",
            "  Class: caution\n",
            "  True Label: Label_3(위험) | Predicted Label: Label_4(위험)\n",
            "==================================================\n",
            "[51] Input: A man wearing dark clothes is lying on the sidewalk.\n",
            "  Class: fall\n",
            "  True Label: Label_6(위험) | Predicted Label: Label_5(위험)\n",
            "==================================================\n",
            "[52] Input: A woman wearing white short sleeves collapsed while using a walking aid.\n",
            "  Class: fall\n",
            "  True Label: Label_7(위험) | Predicted Label: Label_6(위험)\n",
            "==================================================\n",
            "[53] Input: A man wearing a red top collapsed on the table in the room.\n",
            "  Class: fall\n",
            "  True Label: Label_6(위험) | Predicted Label: Label_5(위험)\n",
            "==================================================\n",
            "[54] Input: The person wearing a green top fell on the flower bed.\n",
            "  Class: fall\n",
            "  True Label: Label_6(위험) | Predicted Label: Label_5(위험)\n",
            "==================================================\n",
            "[55] Input: A woman sitting on the lawn holding shopping bags.\n",
            "  Class: fall\n",
            "  True Label: Label_5(위험) | Predicted Label: Label_3(위험)\n",
            "==================================================\n",
            "[56] Input: A man wearing a white top fell next to a black car.\n",
            "  Class: fall\n",
            "  True Label: Label_7(위험) | Predicted Label: Label_6(위험)\n",
            "==================================================\n",
            "[57] Input: A man wearing gray short sleeves is lying down in a room, holding a chair.\n",
            "  Class: fall\n",
            "  True Label: Label_6(위험) | Predicted Label: Label_5(위험)\n",
            "==================================================\n",
            "[58] Input: An elderly woman wearing brown pants is lying down on the stairs in her house.\n",
            "  Class: fall\n",
            "  True Label: Label_7(위험) | Predicted Label: Label_6(위험)\n",
            "==================================================\n",
            "[59] Input: A man wearing blue jeans falls on the lawn next to a black car.\n",
            "  Class: fall\n",
            "  True Label: Label_6(위험) | Predicted Label: Label_5(위험)\n",
            "==================================================\n",
            "[60] Input: A man dressed in black, holding a cell phone to his ear, is lying inside a building.\n",
            "  Class: fall\n",
            "  True Label: Label_5(위험) | Predicted Label: Label_6(위험)\n",
            "==================================================\n",
            "[61] Input: A man wearing black pants falls down on the front door of a house.\n",
            "  Class: fall\n",
            "  True Label: Label_6(위험) | Predicted Label: Label_5(위험)\n",
            "==================================================\n",
            "[62] Input: A blonde man falls down on the road.\n",
            "  Class: fall\n",
            "  True Label: Label_7(위험) | Predicted Label: Label_6(위험)\n",
            "==================================================\n",
            "[63] Input: A woman wearing a white top is falling down the stairs.\n",
            "  Class: fall\n",
            "  True Label: Label_7(위험) | Predicted Label: Label_6(위험)\n",
            "==================================================\n",
            "[64] Input: A man wearing a blue t-shirt is passed out on the stairs.\n",
            "  Class: fall\n",
            "  True Label: Label_5(위험) | Predicted Label: Label_6(위험)\n",
            "==================================================\n",
            "[65] Input: An old man in a blue shirt collapsed in front of a white chair in a room.\n",
            "  Class: fall\n",
            "  True Label: Label_6(위험) | Predicted Label: Label_5(위험)\n",
            "==================================================\n",
            "[66] Input: An old man in purple clothes is falling after jumping on a trampoline.\n",
            "  Class: fall\n",
            "  True Label: Label_3(위험) | Predicted Label: Label_7(위험)\n",
            "==================================================\n",
            "[67] Input: The person wearing pink clothes fell while climbing the stairs.\n",
            "  Class: fall\n",
            "  True Label: Label_5(위험) | Predicted Label: Label_6(위험)\n",
            "==================================================\n",
            "[68] Input: An old man wearing a white shirt and black pants fell on the lawn.\n",
            "  Class: fall\n",
            "  True Label: Label_6(위험) | Predicted Label: Label_5(위험)\n",
            "==================================================\n",
            "[69] Input: A man wearing black slips and falls down the stairs.\n",
            "  Class: fall\n",
            "  True Label: Label_7(위험) | Predicted Label: Label_6(위험)\n",
            "==================================================\n",
            "[70] Input: A man in a gray suit is lying on the stairs.\n",
            "  Class: fall\n",
            "  True Label: Label_5(위험) | Predicted Label: Label_6(위험)\n",
            "==================================================\n",
            "[71] Input: A woman with a red scarf holding a paper in her hand fell down the stairs.\n",
            "  Class: fall\n",
            "  True Label: Label_7(위험) | Predicted Label: Label_6(위험)\n",
            "==================================================\n",
            "[72] Input: A man wearing jeans is lying down on the lawn.\n",
            "  Class: fall\n",
            "  True Label: Label_6(위험) | Predicted Label: Label_5(위험)\n",
            "==================================================\n",
            "[73] Input: A person holding a brown board is lying in the snow and a truck is next to him.\n",
            "  Class: fall\n",
            "  True Label: Label_7(위험) | Predicted Label: Label_6(위험)\n",
            "==================================================\n",
            "[74] Input: A man wearing a gray T-shirt falls on the stone floor, and a car is in front of him.\n",
            "  Class: fall\n",
            "  True Label: Label_7(위험) | Predicted Label: Label_6(위험)\n",
            "==================================================\n",
            "[75] Input: A person wearing pink clothes is falling next to a black car.\n",
            "  Class: fall\n",
            "  True Label: Label_7(위험) | Predicted Label: Label_6(위험)\n",
            "==================================================\n",
            "[76] Input: A man wearing a gray jumper slipped and fell down the stairs in his house.\n",
            "  Class: fall\n",
            "  True Label: Label_7(위험) | Predicted Label: Label_6(위험)\n",
            "==================================================\n",
            "[77] Input: An old man in a striped shirt is passed out on the stairs.\n",
            "  Class: fall\n",
            "  True Label: Label_5(위험) | Predicted Label: Label_7(위험)\n",
            "==================================================\n",
            "[78] Input: A man wearing light blue pajamas is sleeping on the floor.\n",
            "  Class: fall\n",
            "  True Label: Label_3(위험) | Predicted Label: Label_2(위험)\n",
            "==================================================\n",
            "[79] Input: An elderly woman wearing a purple knit fell down next to a chair.\n",
            "  Class: fall\n",
            "  True Label: Label_7(위험) | Predicted Label: Label_6(위험)\n",
            "==================================================\n",
            "[80] Input: A person dressed in black is falling down the stairs.\n",
            "  Class: fall\n",
            "  True Label: Label_7(위험) | Predicted Label: Label_6(위험)\n",
            "==================================================\n",
            "[81] Input: A woman wearing a checked shirt is tied to a rope and slumped backwards while sitting on a chair.\n",
            "  Class: fall\n",
            "  True Label: Label_7(위험) | Predicted Label: Label_6(위험)\n",
            "==================================================\n",
            "[82] Input: A man wearing a gray top is tripped over a hanger.A man wearing a gray top is tripped over a hanger.\n",
            "  Class: fall\n",
            "  True Label: Label_6(위험) | Predicted Label: Label_5(위험)\n",
            "==================================================\n",
            "[83] Input: A woman in a mint top is lying down next to a gray car.\n",
            "  Class: fall\n",
            "  True Label: Label_7(위험) | Predicted Label: Label_6(위험)\n",
            "==================================================\n",
            "[84] Input: A man wearing light green pants is lying on the ground under a basketball hoop.\n",
            "  Class: fall\n",
            "  True Label: Label_7(위험) | Predicted Label: Label_6(위험)\n",
            "==================================================\n",
            "[85] Input: A man wearing a white top fell next to a red car.\n",
            "  Class: fall\n",
            "  True Label: Label_7(위험) | Predicted Label: Label_6(위험)\n",
            "==================================================\n",
            "[86] Input: A man wearing a red hat has fallen in front of the front door.\n",
            "  Class: fall\n",
            "  True Label: Label_6(위험) | Predicted Label: Label_5(위험)\n",
            "==================================================\n",
            "[87] Input: A man wearing a black jacket is lying on an exercise mat in a room.\n",
            "  Class: fall\n",
            "  True Label: Label_3(위험) | Predicted Label: Label_5(위험)\n",
            "==================================================\n",
            "[88] Input: A man wearing black clothing is falling over next to a chair.\n",
            "  Class: fall\n",
            "  True Label: Label_6(위험) | Predicted Label: Label_5(위험)\n",
            "==================================================\n",
            "[89] Input: A child wearing yellow clothes is lying down on the lawn.\n",
            "  Class: fall\n",
            "  True Label: Label_6(위험) | Predicted Label: Label_5(위험)\n",
            "==================================================\n",
            "[90] Input: A man wearing a black top slipped on the road.\n",
            "  Class: fall\n",
            "  True Label: Label_7(위험) | Predicted Label: Label_6(위험)\n",
            "==================================================\n",
            "[91] Input: A woman wearing shorts falls down next to the pool.\n",
            "  Class: fall\n",
            "  True Label: Label_7(위험) | Predicted Label: Label_6(위험)\n",
            "==================================================\n",
            "[92] Input: A man wearing brown clothes falls on an icy road, and a black truck is behind him.\n",
            "  Class: fall\n",
            "  True Label: Label_7(위험) | Predicted Label: Label_5(위험)\n",
            "==================================================\n",
            "[93] Input: A man wearing white pants is riding a water slide face down.\n",
            "  Class: fall\n",
            "  True Label: Label_5(위험) | Predicted Label: Label_4(위험)\n",
            "==================================================\n",
            "\n",
            "Total Mismatched Samples: 93\n"
          ]
        }
      ]
    },
    {
      "cell_type": "markdown",
      "source": [
        "## 전체 데이터셋 F1 Score 계산"
      ],
      "metadata": {
        "id": "AUl-Oj0OLpTG"
      }
    },
    {
      "cell_type": "code",
      "source": [
        "import numpy as np\n",
        "\n",
        "# 전체 데이터 결합\n",
        "all_sentences = []\n",
        "all_true_labels = []\n",
        "\n",
        "for class_name, data in class_to_data.items():\n",
        "    sentences, true_labels = zip(*data)\n",
        "    all_sentences.extend(sentences)\n",
        "    all_true_labels.extend(true_labels)\n",
        "\n",
        "# Tokenizer로 전체 데이터 변환\n",
        "inputs = tokenizer(list(all_sentences), padding=True, truncation=True, return_tensors=\"pt\")\n",
        "input_ids = inputs[\"input_ids\"].to(device)\n",
        "attention_mask = inputs[\"attention_mask\"].to(device)\n",
        "\n",
        "# 모델 예측\n",
        "model.eval()\n",
        "with torch.no_grad():\n",
        "    outputs = model(input_ids=input_ids, attention_mask=attention_mask)\n",
        "    logits = outputs.logits\n",
        "    all_predicted_labels = torch.argmax(logits, dim=1).cpu().numpy()\n",
        "\n",
        "# 전체 성능 평가 (weighted average)\n",
        "precision = precision_score(all_true_labels, all_predicted_labels, average='weighted')\n",
        "recall = recall_score(all_true_labels, all_predicted_labels, average='weighted')\n",
        "f1 = f1_score(all_true_labels, all_predicted_labels, average='weighted')\n",
        "accuracy = accuracy_score(all_true_labels, all_predicted_labels)\n",
        "\n",
        "# 결과 출력\n",
        "print(\"\\nOverall Classification Metrics:\")\n",
        "print(f\"  Accuracy: {accuracy:.4f}\")\n",
        "print(f\"  Precision: {precision:.4f}\")\n",
        "print(f\"  Recall: {recall:.4f}\")\n",
        "print(f\"  F1 Score: {f1:.4f}\")\n"
      ],
      "metadata": {
        "colab": {
          "base_uri": "https://localhost:8080/"
        },
        "id": "Xn2sROXzLi-b",
        "outputId": "ff6d81b9-d1ea-4c17-e106-7f1ef8520b5b"
      },
      "execution_count": 69,
      "outputs": [
        {
          "output_type": "stream",
          "name": "stdout",
          "text": [
            "\n",
            "Overall Classification Metrics:\n",
            "  Accuracy: 0.9555\n",
            "  Precision: 0.9553\n",
            "  Recall: 0.9555\n",
            "  F1 Score: 0.9546\n"
          ]
        },
        {
          "output_type": "stream",
          "name": "stderr",
          "text": [
            "/usr/local/lib/python3.10/dist-packages/sklearn/metrics/_classification.py:1531: UndefinedMetricWarning: Precision is ill-defined and being set to 0.0 in labels with no predicted samples. Use `zero_division` parameter to control this behavior.\n",
            "  _warn_prf(average, modifier, f\"{metric.capitalize()} is\", len(result))\n"
          ]
        }
      ]
    }
  ],
  "metadata": {
    "accelerator": "GPU",
    "colab": {
      "gpuType": "T4",
      "provenance": []
    },
    "kernelspec": {
      "display_name": "Python 3",
      "name": "python3"
    },
    "language_info": {
      "name": "python"
    }
  },
  "nbformat": 4,
  "nbformat_minor": 0
}