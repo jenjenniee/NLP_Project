{
 "cells": [
  {
   "cell_type": "code",
   "execution_count": null,
   "metadata": {},
   "outputs": [],
   "source": [
    "import os\n",
    "print(os.getcwd())"
   ]
  },
  {
   "cell_type": "code",
   "execution_count": null,
   "metadata": {},
   "outputs": [],
   "source": [
    "# 필요한 라이브러리 및 패키지 설치\n",
    "!pip install git+https://github.com/huggingface/transformers.git@main\n",
    "!pip install -q datasets\n",
    "!pip install nltk"
   ]
  },
  {
   "cell_type": "code",
   "execution_count": null,
   "metadata": {},
   "outputs": [],
   "source": [
    "from torchvision.datasets import CocoCaptions\n",
    "from torch.utils.data import Dataset, DataLoader\n",
    "\n",
    "# COCO 데이터셋 다운로드 및 로드\n",
    "coco_dataset = CocoCaptions(root=\"content/drive/MyDrive/abnormal_dataset\", annFile=\"content/drive/MyDrive/abnormal_dataset.json\", transform=None)\n",
    "test_dataset = CocoCaptions(root=\"content/drive/MyDrive/test_abnormal_dataset\", annFile=\"content/drive/MyDrive/test_abnormal_dataset/test_abnormal_dataset.json\", transform=None)\n",
    "\n",
    "# Hugging Face의 transformers 라이브러리에서 AutoProcessor 및 BlipForConditionalGeneration 불러오기\n",
    "from transformers import AutoProcessor, BlipForConditionalGeneration\n",
    "\n",
    "# Processor 및 모델 초기화\n",
    "train_processor = AutoProcessor.from_pretrained(\"Salesforce/blip-image-captioning-base\")\n",
    "valid_processor = AutoProcessor.from_pretrained(\"Salesforce/blip-image-captioning-base\")\n",
    "test_processor = AutoProcessor.from_pretrained(\"Salesforce/blip-image-captioning-base\")\n",
    "model = BlipForConditionalGeneration.from_pretrained(\"Salesforce/blip-image-captioning-base\")"
   ]
  },
  {
   "cell_type": "code",
   "execution_count": null,
   "metadata": {},
   "outputs": [],
   "source": [
    "# 이미지 캡션 데이터셋 클래스 정의\n",
    "class ImageCaptioningDataset(Dataset):\n",
    "    def __init__(self, dataset, processor):\n",
    "        # 데이터셋과 프로세서를 초기화\n",
    "        self.dataset = dataset\n",
    "        self.processor = processor\n",
    "\n",
    "    def __len__(self):\n",
    "        # 데이터셋의 길이\n",
    "        return len(self.dataset)\n",
    "\n",
    "    def __getitem__(self, idx):\n",
    "        image, captions = self.dataset[idx]\n",
    "        text = captions[0]\n",
    "\n",
    "        encoding = self.processor(images=image, text=text, padding=\"max_length\", return_tensors=\"pt\")\n",
    "        encoding = {k: v.squeeze() for k, v in encoding.items()}\n",
    "        return encoding"
   ]
  },
  {
   "cell_type": "code",
   "execution_count": null,
   "metadata": {},
   "outputs": [],
   "source": [
    "from torch.utils.data import random_split\n",
    "\n",
    "# 학습 데이터셋 크기를 전체의 90%로 설정\n",
    "total_size = len(coco_dataset)\n",
    "train_size = int(0.9 * total_size)\n",
    "valid_size = (total_size - train_size)\n",
    "\n",
    "# random_split을 사용하여 학습과 검증 데이터셋으로 분할\n",
    "train_dataset, valid_dataset = random_split(coco_dataset, [train_size, valid_size])\n",
    "\n",
    "# 학습, 검증, 테스트 데이터셋 초기화\n",
    "train_dataset = ImageCaptioningDataset(train_dataset, train_processor)\n",
    "valid_dataset = ImageCaptioningDataset(valid_dataset, valid_processor)\n",
    "test_dataset = ImageCaptioningDataset(test_dataset, test_processor)\n",
    "\n",
    "# 학습, 검증, 테스트용 데이터 로더 초기화\n",
    "train_dataloader = DataLoader(train_dataset, shuffle=True, batch_size=4)\n",
    "valid_dataloader = DataLoader(valid_dataset, shuffle=False, batch_size=4)\n",
    "test_dataloader = DataLoader(test_dataset, shuffle=False, batch_size=1)\n",
    "\n",
    "# 각 데이터셋의 샘플 수를 계산\n",
    "train_size = len(train_dataset)\n",
    "valid_size = len(valid_dataset)\n",
    "test_size = len(test_dataset)\n",
    "\n",
    "print(total_size)\n",
    "print(f\"Number of samples in the training dataset: {train_size}\")\n",
    "print(f\"Number of samples in the validation dataset: {valid_size}\")\n",
    "print(f\"Number of samples in the test dataset: {test_size}\")"
   ]
  },
  {
   "attachments": {},
   "cell_type": "markdown",
   "metadata": {},
   "source": []
  }
 ],
 "metadata": {
  "language_info": {
   "name": "python"
  },
  "orig_nbformat": 4
 },
 "nbformat": 4,
 "nbformat_minor": 2
}
